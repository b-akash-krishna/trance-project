{
 "cells": [
  {
   "cell_type": "code",
   "execution_count": 1,
   "id": "47d0bef8",
   "metadata": {},
   "outputs": [],
   "source": [
    "# %pip uninstall -y numpy pandas pyarrow\n",
    "# %pip install --upgrade pip setuptools wheel\n",
    "\n",
    "# # Install compatible versions\n",
    "# %pip install numpy==1.26.4\n",
    "# %pip install pandas==2.2.3\n",
    "\n",
    "# %pip install pyarrow fastparquet\n"
   ]
  },
  {
   "cell_type": "code",
   "execution_count": 2,
   "id": "5ee80f12",
   "metadata": {},
   "outputs": [
    {
     "name": "stderr",
     "output_type": "stream",
     "text": [
      "c:\\Users\\91903\\OneDrive\\Desktop\\1111198\\IIII\\FinalProject\\Patient\\trance-project\\venv\\lib\\site-packages\\tqdm\\auto.py:21: TqdmWarning: IProgress not found. Please update jupyter and ipywidgets. See https://ipywidgets.readthedocs.io/en/stable/user_install.html\n",
      "  from .autonotebook import tqdm as notebook_tqdm\n"
     ]
    },
    {
     "name": "stdout",
     "output_type": "stream",
     "text": [
      "Requirement already satisfied: h5py in c:\\users\\91903\\onedrive\\desktop\\1111198\\iiii\\finalproject\\patient\\trance-project\\venv\\lib\\site-packages (3.14.0)Note: you may need to restart the kernel to use updated packages.\n",
      "\n",
      "Requirement already satisfied: numpy>=1.19.3 in c:\\users\\91903\\onedrive\\desktop\\1111198\\iiii\\finalproject\\patient\\trance-project\\venv\\lib\\site-packages (from h5py) (1.26.4)\n",
      "🖥️  Using device: cuda\n",
      "   GPU: NVIDIA GeForce RTX 3050 Laptop GPU\n",
      "   Memory: 4.29 GB\n"
     ]
    }
   ],
   "source": [
    "\"\"\"\n",
    "Notebook: 04_generate_embeddings.ipynb\n",
    "Generate clinical text embeddings using ClinicalT5-large\n",
    "Run this in Google Colab with GPU for faster processing!\n",
    "\"\"\"\n",
    "\n",
    "# Cell 1: Setup and GPU Check\n",
    "import pandas as pd\n",
    "import numpy as np\n",
    "import torch\n",
    "from transformers import AutoTokenizer, AutoModel\n",
    "from pathlib import Path\n",
    "import json\n",
    "from tqdm.auto import tqdm\n",
    "# Install h5py\n",
    "%pip install h5py\n",
    "import h5py\n",
    "import warnings\n",
    "warnings.filterwarnings('ignore')\n",
    "\n",
    "# Check GPU availability\n",
    "device = torch.device('cuda' if torch.cuda.is_available() else 'cpu')\n",
    "print(f\"🖥️  Using device: {device}\")\n",
    "if torch.cuda.is_available():\n",
    "    print(f\"   GPU: {torch.cuda.get_device_name(0)}\")\n",
    "    print(f\"   Memory: {torch.cuda.get_device_properties(0).total_memory / 1e9:.2f} GB\")\n",
    "else:\n",
    "    print(\"   ⚠️  No GPU available - this will be slow!\")\n",
    "    print(\"   Consider using Google Colab with GPU runtime\")\n",
    "\n"
   ]
  },
  {
   "cell_type": "code",
   "execution_count": 3,
   "id": "88c929be",
   "metadata": {},
   "outputs": [
    {
     "name": "stdout",
     "output_type": "stream",
     "text": [
      "2.8.0+cu128\n",
      "12.8\n",
      "True\n",
      "NVIDIA GeForce RTX 3050 Laptop GPU\n"
     ]
    }
   ],
   "source": [
    "import torch\n",
    "print(torch.__version__)\n",
    "print(torch.version.cuda)           # Should show 12.8\n",
    "print(torch.cuda.is_available())    # Should be True\n",
    "print(torch.cuda.get_device_name(0))  # Should show \"NVIDIA GeForce RTX 3050\"\n"
   ]
  },
  {
   "cell_type": "code",
   "execution_count": 4,
   "id": "1e101ab6",
   "metadata": {},
   "outputs": [
    {
     "name": "stdout",
     "output_type": "stream",
     "text": [
      "✓ Using local path\n",
      "✓ Loaded cohort: 79 admissions\n",
      "   With discharge notes: 79\n",
      "✓ Processing 79 admissions with notes\n"
     ]
    }
   ],
   "source": [
    "# Cell 2: Load Configuration and Data\n",
    "\"\"\"\n",
    "Load cohort and configuration\n",
    "\"\"\"\n",
    "# If running in Colab, mount Google Drive\n",
    "try:\n",
    "    from google.colab import drive\n",
    "    drive.mount('/content/drive')\n",
    "    base_path = Path('/content/drive/MyDrive/TRANCE')  # Adjust path\n",
    "    print(\"✓ Google Drive mounted\")\n",
    "except:\n",
    "    base_path = Path('..')  # Local path\n",
    "    print(\"✓ Using local path\")\n",
    "\n",
    "# Load config\n",
    "config_path = base_path / 'configs/config.json'\n",
    "with open(config_path, 'r') as f:\n",
    "    config = json.load(f)\n",
    "\n",
    "# Load cohort with discharge notes\n",
    "cohort_path = base_path / 'data/processed/cohort_with_outcomes.parquet'\n",
    "cohort = pd.read_parquet(cohort_path)\n",
    "\n",
    "print(f\"✓ Loaded cohort: {len(cohort)} admissions\")\n",
    "print(f\"   With discharge notes: {cohort['HAS_DISCHARGE_NOTE'].sum()}\")\n",
    "\n",
    "# Filter to admissions with notes\n",
    "cohort_with_notes = cohort[cohort['HAS_DISCHARGE_NOTE']].copy()\n",
    "print(f\"✓ Processing {len(cohort_with_notes)} admissions with notes\")\n",
    "\n"
   ]
  },
  {
   "cell_type": "code",
   "execution_count": 5,
   "id": "469e7d13",
   "metadata": {},
   "outputs": [],
   "source": [
    "# %pip install huggingface_hub[hf_xet]\n",
    "\n",
    "# %pip install --upgrade pip\n",
    "# %pip install --upgrade \"jax[cuda12]\" -f https://storage.googleapis.com/jax-releases/jax_releases.html\n",
    "\n",
    "# %pip install flax\n",
    "\n",
    "# %pip install transformers[flax]\n"
   ]
  },
  {
   "cell_type": "code",
   "execution_count": null,
   "id": "9cc66796",
   "metadata": {},
   "outputs": [
    {
     "name": "stderr",
     "output_type": "stream",
     "text": [
      "No GPU/TPU found, falling back to CPU. (Set TF_CPP_MIN_LOG_LEVEL=0 and rerun for more info.)\n"
     ]
    },
    {
     "name": "stdout",
     "output_type": "stream",
     "text": [
      "cpu\n",
      "[CpuDevice(id=0)]\n"
     ]
    }
   ],
   "source": [
    "# import jax\n",
    "# print(jax.default_backend())   # should print 'gpu'\n",
    "# print(jax.devices())           # should list your GPU (e.g. NVIDIA GeForce RTX 3060)"
   ]
  },
  {
   "cell_type": "code",
   "execution_count": 7,
   "id": "c674e4ec",
   "metadata": {},
   "outputs": [
    {
     "name": "stdout",
     "output_type": "stream",
     "text": [
      "Loading model: luqh/ClinicalT5-large\n",
      "This may take a few minutes on first run...\n"
     ]
    },
    {
     "name": "stderr",
     "output_type": "stream",
     "text": [
      "All Flax model weights were used when initializing T5Model.\n",
      "\n",
      "Some weights of T5Model were not initialized from the Flax model and are newly initialized: ['decoder.embed_tokens.weight', 'encoder.embed_tokens.weight']\n",
      "You should probably TRAIN this model on a down-stream task to be able to use it for predictions and inference.\n"
     ]
    },
    {
     "name": "stdout",
     "output_type": "stream",
     "text": [
      "✓ Model loaded successfully\n",
      "   Model parameters: 737,668,096\n",
      "   Embedding dimension: 768\n",
      "   Device: cuda\n"
     ]
    }
   ],
   "source": [
    "# Cell 3: Load ClinicalT5 Model (PyTorch from Flax)\n",
    "\"\"\"\n",
    "Load pre-trained ClinicalT5-large model and tokenizer\n",
    "\"\"\"\n",
    "model_name = config['model']['embedding_model']\n",
    "print(f\"Loading model: {model_name}\")\n",
    "print(\"This may take a few minutes on first run...\")\n",
    "\n",
    "# Load tokenizer\n",
    "tokenizer = AutoTokenizer.from_pretrained(model_name)\n",
    "\n",
    "# Load model from Flax weights and move to device\n",
    "try:\n",
    "    model = AutoModel.from_pretrained(model_name, from_flax=True)\n",
    "except Exception as e:\n",
    "    print(\"Error loading Flax model. Make sure jax and flax are installed.\")\n",
    "    raise e\n",
    "\n",
    "model = model.to(device)\n",
    "model.eval()\n",
    "\n",
    "print(f\"✓ Model loaded successfully\")\n",
    "print(f\"   Model parameters: {sum(p.numel() for p in model.parameters()):,}\")\n",
    "print(f\"   Embedding dimension: {config['model']['embedding_dim']}\")\n",
    "print(f\"   Device: {device}\")\n"
   ]
  },
  {
   "cell_type": "code",
   "execution_count": 8,
   "id": "dcca5720",
   "metadata": {},
   "outputs": [
    {
     "name": "stdout",
     "output_type": "stream",
     "text": [
      "✓ 79 notes available before preprocessing\n",
      "✓ 79 notes after preprocessing\n",
      "\n",
      "Text length statistics:\n",
      "count       79.000000\n",
      "mean      2445.746835\n",
      "std       2542.379506\n",
      "min        367.000000\n",
      "25%       1444.000000\n",
      "50%       2058.000000\n",
      "75%       2698.500000\n",
      "max      21910.000000\n",
      "Name: TEXT_LENGTH, dtype: float64\n"
     ]
    }
   ],
   "source": [
    "# Cell 4: Text Preprocessing Function\n",
    "\"\"\"\n",
    "Preprocess clinical notes for embedding generation\n",
    "\"\"\"\n",
    "def preprocess_text(text):\n",
    "    \"\"\"\n",
    "    Clean and preprocess clinical text\n",
    "    \"\"\"\n",
    "    if pd.isna(text):\n",
    "        return \"\"\n",
    "    \n",
    "    # Convert to string and lowercase\n",
    "    text = str(text).lower()\n",
    "    \n",
    "    # Remove excessive whitespace\n",
    "    text = ' '.join(text.split())\n",
    "    \n",
    "    # Remove very short texts\n",
    "    if len(text) < 5:\n",
    "        return \"\"\n",
    "    \n",
    "    # Truncate very long texts (handle in chunking instead)\n",
    "    # We'll chunk properly in the next step\n",
    "    \n",
    "    return text\n",
    "\n",
    "\n",
    "# Ensure the column exists\n",
    "if 'DISCHARGE_TEXT' not in cohort_with_notes.columns:\n",
    "    raise KeyError(\"Column 'DISCHARGE_TEXT' not found. Available columns: \" + str(cohort_with_notes.columns))\n",
    "\n",
    "# Keep only rows with non-null discharge text\n",
    "cohort_with_notes = cohort_with_notes[cohort_with_notes['DISCHARGE_TEXT'].notna()].copy()\n",
    "print(f\"✓ {len(cohort_with_notes)} notes available before preprocessing\")\n",
    "\n",
    "# Apply preprocessing\n",
    "cohort_with_notes['PROCESSED_TEXT'] = cohort_with_notes['DISCHARGE_TEXT'].apply(preprocess_text)\n",
    "\n",
    "# Remove empty texts\n",
    "cohort_with_notes = cohort_with_notes[cohort_with_notes['PROCESSED_TEXT'] != \"\"].copy()\n",
    "print(f\"✓ {len(cohort_with_notes)} notes after preprocessing\")\n",
    "\n",
    "# Analyze text lengths\n",
    "cohort_with_notes['TEXT_LENGTH'] = cohort_with_notes['PROCESSED_TEXT'].str.len()\n",
    "print(f\"\\nText length statistics:\")\n",
    "print(cohort_with_notes['TEXT_LENGTH'].describe())\n",
    "\n"
   ]
  },
  {
   "cell_type": "code",
   "execution_count": 9,
   "id": "abaf8aa6",
   "metadata": {},
   "outputs": [
    {
     "name": "stdout",
     "output_type": "stream",
     "text": [
      "Testing chunking strategy...\n",
      "Sample text length: 1814 characters\n",
      "Number of chunks: 2\n",
      "Tokens per chunk: [513, 401]\n"
     ]
    }
   ],
   "source": [
    "# Cell 5: Text Chunking Strategy\n",
    "\"\"\"\n",
    "Implement sliding window chunking for long texts\n",
    "\"\"\"\n",
    "max_length = config['model']['max_text_length']\n",
    "overlap = config['model']['chunk_overlap']\n",
    "\n",
    "def chunk_text(text, tokenizer, max_length=512, overlap=128):\n",
    "    \"\"\"\n",
    "    Split long text into overlapping chunks\n",
    "    Returns list of token IDs for each chunk\n",
    "    \"\"\"\n",
    "    # Tokenize full text\n",
    "    tokens = tokenizer.encode(text, add_special_tokens=False)\n",
    "    \n",
    "    if len(tokens) <= max_length:\n",
    "        # Short text - return as single chunk with special tokens\n",
    "        return [tokenizer.encode(text, max_length=max_length, truncation=True)]\n",
    "    \n",
    "    # Long text - create sliding windows\n",
    "    chunks = []\n",
    "    stride = max_length - overlap\n",
    "    \n",
    "    for i in range(0, len(tokens), stride):\n",
    "        chunk_tokens = tokens[i:i + max_length]\n",
    "        \n",
    "        # Add special tokens\n",
    "        chunk_ids = tokenizer.build_inputs_with_special_tokens(chunk_tokens)\n",
    "        chunks.append(chunk_ids)\n",
    "        \n",
    "        # Stop if we've covered the text\n",
    "        if i + max_length >= len(tokens):\n",
    "            break\n",
    "    \n",
    "    return chunks\n",
    "\n",
    "# Test chunking only if there are notes\n",
    "if len(cohort_with_notes) > 0:\n",
    "    print(\"Testing chunking strategy...\")\n",
    "    sample_text = cohort_with_notes.iloc[0]['PROCESSED_TEXT']\n",
    "    sample_chunks = chunk_text(sample_text, tokenizer, max_length, overlap)\n",
    "    print(f\"Sample text length: {len(sample_text)} characters\")\n",
    "    print(f\"Number of chunks: {len(sample_chunks)}\")\n",
    "    print(f\"Tokens per chunk: {[len(c) for c in sample_chunks]}\")\n",
    "else:\n",
    "    print(\"⚠️  No notes available to test chunking.\")\n"
   ]
  },
  {
   "cell_type": "code",
   "execution_count": 14,
   "id": "9ce6c6bd",
   "metadata": {},
   "outputs": [
    {
     "name": "stdout",
     "output_type": "stream",
     "text": [
      "✓ Embedding generation function ready (Encoder-only for ClinicalT5)\n"
     ]
    }
   ],
   "source": [
    "\"\"\"\n",
    "Cell 6: Batch Embedding Generation Function\n",
    "Generate embeddings with batching for efficiency (T5 encoder-only)\n",
    "\"\"\"\n",
    "@torch.no_grad()\n",
    "def generate_embeddings(texts, tokenizer, model, batch_size=8, max_length=512, overlap=128):\n",
    "    \"\"\"\n",
    "    Generate embeddings for a list of texts using the encoder part of T5/ClinicalT5.\n",
    "    Returns: numpy array of embeddings (n_texts, embedding_dim)\n",
    "    \"\"\"\n",
    "    all_embeddings = []\n",
    "\n",
    "    for text in tqdm(texts, desc=\"Generating embeddings\"):\n",
    "        # Chunk long text into overlapping segments\n",
    "        chunks = chunk_text(text, tokenizer, max_length, overlap)\n",
    "\n",
    "        if len(chunks) == 0:\n",
    "            embedding = np.zeros(config['model']['embedding_dim'])\n",
    "            all_embeddings.append(embedding)\n",
    "            continue\n",
    "\n",
    "        chunk_embeddings = []\n",
    "\n",
    "        for i in range(0, len(chunks), batch_size):\n",
    "            batch_chunks = chunks[i:i + batch_size]\n",
    "            max_len = max(len(c) for c in batch_chunks)\n",
    "\n",
    "            padded_chunks = [c + [tokenizer.pad_token_id] * (max_len - len(c))\n",
    "                             for c in batch_chunks]\n",
    "            attention_mask = [[1] * len(c) + [0] * (max_len - len(c))\n",
    "                              for c in batch_chunks]\n",
    "\n",
    "            input_ids = torch.tensor(padded_chunks).to(device)\n",
    "            attention_mask = torch.tensor(attention_mask).to(device)\n",
    "\n",
    "            # ✅ Encoder-only forward pass (fix for T5/ClinicalT5)\n",
    "            encoder_outputs = model.encoder(\n",
    "                input_ids=input_ids,\n",
    "                attention_mask=attention_mask\n",
    "            )\n",
    "\n",
    "            embeddings = encoder_outputs.last_hidden_state\n",
    "\n",
    "            # Mean pooling with attention mask\n",
    "            mask_expanded = attention_mask.unsqueeze(-1).expand(embeddings.size()).float()\n",
    "            sum_embeddings = torch.sum(embeddings * mask_expanded, 1)\n",
    "            sum_mask = torch.clamp(mask_expanded.sum(1), min=1e-9)\n",
    "            chunk_emb = (sum_embeddings / sum_mask).cpu().numpy()\n",
    "\n",
    "            chunk_embeddings.append(chunk_emb)\n",
    "\n",
    "        chunk_embeddings = np.vstack(chunk_embeddings)\n",
    "        final_embedding = np.mean(chunk_embeddings, axis=0)\n",
    "        all_embeddings.append(final_embedding)\n",
    "\n",
    "    return np.array(all_embeddings)\n",
    "\n",
    "print(\"✓ Embedding generation function ready (Encoder-only for ClinicalT5)\")\n"
   ]
  },
  {
   "cell_type": "code",
   "execution_count": 15,
   "id": "d855ce28",
   "metadata": {},
   "outputs": [
    {
     "name": "stdout",
     "output_type": "stream",
     "text": [
      "\n",
      "============================================================\n",
      "GENERATING CLINICAL TEXT EMBEDDINGS\n",
      "============================================================\n",
      "\n",
      "Processing 79 clinical notes...\n",
      "Batch size: 16\n",
      "Max length: 512 tokens\n",
      "Overlap: 128 tokens\n",
      "\n",
      "This may take 10-30 minutes depending on GPU...\n"
     ]
    },
    {
     "name": "stderr",
     "output_type": "stream",
     "text": [
      "Generating embeddings: 100%|██████████| 79/79 [01:27<00:00,  1.11s/it]"
     ]
    },
    {
     "name": "stdout",
     "output_type": "stream",
     "text": [
      "\n",
      "✓ Generated embeddings\n",
      "   Shape: (79, 1024)\n",
      "   Memory: 0.32 MB\n"
     ]
    },
    {
     "name": "stderr",
     "output_type": "stream",
     "text": [
      "\n"
     ]
    }
   ],
   "source": [
    "# Cell 7: Generate Embeddings for All Notes\n",
    "\"\"\"\n",
    "Process all clinical notes - this is the main computation\n",
    "\"\"\"\n",
    "print(\"\\n\" + \"=\"*60)\n",
    "print(\"GENERATING CLINICAL TEXT EMBEDDINGS\")\n",
    "print(\"=\"*60)\n",
    "\n",
    "# Batch size - adjust based on GPU memory\n",
    "batch_size = 16 if torch.cuda.is_available() else 4\n",
    "\n",
    "print(f\"\\nProcessing {len(cohort_with_notes)} clinical notes...\")\n",
    "print(f\"Batch size: {batch_size}\")\n",
    "print(f\"Max length: {max_length} tokens\")\n",
    "print(f\"Overlap: {overlap} tokens\")\n",
    "print(\"\\nThis may take 10-30 minutes depending on GPU...\")\n",
    "\n",
    "# Generate embeddings\n",
    "texts = cohort_with_notes['PROCESSED_TEXT'].tolist()\n",
    "embeddings = generate_embeddings(\n",
    "    texts, \n",
    "    tokenizer, \n",
    "    model, \n",
    "    batch_size=batch_size,\n",
    "    max_length=max_length,\n",
    "    overlap=overlap\n",
    ")\n",
    "\n",
    "print(f\"\\n✓ Generated embeddings\")\n",
    "print(f\"   Shape: {embeddings.shape}\")\n",
    "print(f\"   Memory: {embeddings.nbytes / 1e6:.2f} MB\")\n"
   ]
  },
  {
   "cell_type": "code",
   "execution_count": 16,
   "id": "611d4b1b",
   "metadata": {},
   "outputs": [
    {
     "name": "stdout",
     "output_type": "stream",
     "text": [
      "\n",
      "============================================================\n",
      "EMBEDDING QUALITY CHECKS\n",
      "============================================================\n",
      "Zero vectors: 0 (0.00%)\n",
      "NaN vectors: 0\n",
      "Inf vectors: 0\n",
      "\n",
      "Embedding statistics:\n",
      "  Mean: 0.0019\n",
      "  Std:  0.0855\n",
      "  Min:  -0.5834\n",
      "  Max:  0.6497\n",
      "\n",
      "Embedding norms:\n",
      "  Mean: 2.7338\n",
      "  Std:  0.0938\n",
      "  Min:  2.4078\n",
      "  Max:  2.9841\n"
     ]
    }
   ],
   "source": [
    "# Cell 8: Quality Checks\n",
    "\"\"\"\n",
    "Validate embedding quality\n",
    "\"\"\"\n",
    "print(\"\\n\" + \"=\"*60)\n",
    "print(\"EMBEDDING QUALITY CHECKS\")\n",
    "print(\"=\"*60)\n",
    "\n",
    "# Check for zero vectors\n",
    "zero_vectors = np.all(embeddings == 0, axis=1).sum()\n",
    "print(f\"Zero vectors: {zero_vectors} ({zero_vectors/len(embeddings)*100:.2f}%)\")\n",
    "\n",
    "# Check for NaN or Inf\n",
    "nan_vectors = np.any(np.isnan(embeddings), axis=1).sum()\n",
    "inf_vectors = np.any(np.isinf(embeddings), axis=1).sum()\n",
    "print(f\"NaN vectors: {nan_vectors}\")\n",
    "print(f\"Inf vectors: {inf_vectors}\")\n",
    "\n",
    "# Embedding statistics\n",
    "print(f\"\\nEmbedding statistics:\")\n",
    "print(f\"  Mean: {embeddings.mean():.4f}\")\n",
    "print(f\"  Std:  {embeddings.std():.4f}\")\n",
    "print(f\"  Min:  {embeddings.min():.4f}\")\n",
    "print(f\"  Max:  {embeddings.max():.4f}\")\n",
    "\n",
    "# Check embedding norms\n",
    "norms = np.linalg.norm(embeddings, axis=1)\n",
    "print(f\"\\nEmbedding norms:\")\n",
    "print(f\"  Mean: {norms.mean():.4f}\")\n",
    "print(f\"  Std:  {norms.std():.4f}\")\n",
    "print(f\"  Min:  {norms.min():.4f}\")\n",
    "print(f\"  Max:  {norms.max():.4f}\")\n",
    "\n"
   ]
  },
  {
   "cell_type": "code",
   "execution_count": 17,
   "id": "13318954",
   "metadata": {},
   "outputs": [
    {
     "name": "stdout",
     "output_type": "stream",
     "text": [
      "\n",
      "============================================================\n",
      "VISUALIZING EMBEDDING SPACE\n",
      "============================================================\n",
      "Running t-SNE on 79 embeddings...\n",
      "✓ Visualization saved\n"
     ]
    },
    {
     "data": {
      "image/png": "[encoded data removed]",
      "text/plain": [
       "<Figure size 1400x600 with 3 Axes>"
      ]
     },
     "metadata": {},
     "output_type": "display_data"
    }
   ],
   "source": [
    "# Cell 9: Visualize Embedding Space (Sample)\n",
    "\"\"\"\n",
    "Visualize embeddings using t-SNE/UMAP\n",
    "\"\"\"\n",
    "print(\"\\n\" + \"=\"*60)\n",
    "print(\"VISUALIZING EMBEDDING SPACE\")\n",
    "print(\"=\"*60)\n",
    "\n",
    "# Sample for visualization (1000 points max for speed)\n",
    "n_viz = min(1000, len(embeddings))\n",
    "viz_indices = np.random.choice(len(embeddings), n_viz, replace=False)\n",
    "viz_embeddings = embeddings[viz_indices]\n",
    "\n",
    "# Use t-SNE for dimensionality reduction\n",
    "from sklearn.manifold import TSNE\n",
    "import matplotlib.pyplot as plt\n",
    "import seaborn as sns\n",
    "\n",
    "print(f\"Running t-SNE on {n_viz} embeddings...\")\n",
    "tsne = TSNE(n_components=2, random_state=42, perplexity=30)\n",
    "embeddings_2d = tsne.fit_transform(viz_embeddings)\n",
    "\n",
    "# Get readmission labels for coloring\n",
    "viz_cohort = cohort_with_notes.iloc[viz_indices]\n",
    "viz_labels = viz_cohort['READMIT_30'].fillna(False).astype(int)\n",
    "\n",
    "# Plot\n",
    "fig, axes = plt.subplots(1, 2, figsize=(14, 6))\n",
    "\n",
    "# Plot 1: Colored by readmission\n",
    "scatter = axes[0].scatter(\n",
    "    embeddings_2d[:, 0], \n",
    "    embeddings_2d[:, 1],\n",
    "    c=viz_labels,\n",
    "    cmap='RdYlGn_r',\n",
    "    alpha=0.6,\n",
    "    s=20\n",
    ")\n",
    "axes[0].set_title('Clinical Note Embeddings (by Readmission)')\n",
    "axes[0].set_xlabel('t-SNE Dimension 1')\n",
    "axes[0].set_ylabel('t-SNE Dimension 2')\n",
    "plt.colorbar(scatter, ax=axes[0], label='Readmit')\n",
    "\n",
    "# Plot 2: Density\n",
    "axes[1].hexbin(\n",
    "    embeddings_2d[:, 0],\n",
    "    embeddings_2d[:, 1],\n",
    "    gridsize=30,\n",
    "    cmap='Blues',\n",
    "    alpha=0.7\n",
    ")\n",
    "axes[1].set_title('Embedding Density')\n",
    "axes[1].set_xlabel('t-SNE Dimension 1')\n",
    "axes[1].set_ylabel('t-SNE Dimension 2')\n",
    "\n",
    "plt.tight_layout()\n",
    "plt.savefig(base_path / 'outputs/figures/embedding_visualization.png', dpi=300, bbox_inches='tight')\n",
    "print(\"✓ Visualization saved\")\n",
    "plt.show()\n"
   ]
  },
  {
   "cell_type": "code",
   "execution_count": 18,
   "id": "8aa6ad81",
   "metadata": {},
   "outputs": [
    {
     "name": "stdout",
     "output_type": "stream",
     "text": [
      "\n",
      "============================================================\n",
      "SAVING EMBEDDINGS\n",
      "============================================================\n",
      "✓ Saved embeddings to: ..\\data\\embeddings\\discharge_note_embeddings.h5\n",
      "   Size: 0.31 MB\n",
      "✓ Also saved as parquet: ..\\data\\embeddings\\embeddings.parquet\n"
     ]
    }
   ],
   "source": [
    "# Cell 10: Save Embeddings\n",
    "\"\"\"\n",
    "Save embeddings in HDF5 format for efficient storage and retrieval\n",
    "\"\"\"\n",
    "print(\"\\n\" + \"=\"*60)\n",
    "print(\"SAVING EMBEDDINGS\")\n",
    "print(\"=\"*60)\n",
    "\n",
    "# Create embedding dataframe\n",
    "embedding_df = pd.DataFrame({\n",
    "    'HADM_ID': cohort_with_notes['HADM_ID'].values,\n",
    "    'SUBJECT_ID': cohort_with_notes['SUBJECT_ID'].values\n",
    "})\n",
    "\n",
    "# Save embeddings as HDF5 (efficient for large arrays)\n",
    "embeddings_path = base_path / 'data/embeddings/discharge_note_embeddings.h5'\n",
    "embeddings_path.parent.mkdir(parents=True, exist_ok=True)\n",
    "\n",
    "with h5py.File(embeddings_path, 'w') as f:\n",
    "    # Save embeddings\n",
    "    f.create_dataset('embeddings', data=embeddings, compression='gzip')\n",
    "    \n",
    "    # Save HADM_IDs for mapping\n",
    "    f.create_dataset('hadm_ids', data=cohort_with_notes['HADM_ID'].values)\n",
    "    \n",
    "    # Save metadata\n",
    "    f.attrs['n_admissions'] = len(embeddings)\n",
    "    f.attrs['embedding_dim'] = embeddings.shape[1]\n",
    "    f.attrs['model'] = model_name\n",
    "    f.attrs['max_length'] = max_length\n",
    "    f.attrs['overlap'] = overlap\n",
    "\n",
    "print(f\"✓ Saved embeddings to: {embeddings_path}\")\n",
    "print(f\"   Size: {embeddings_path.stat().st_size / 1e6:.2f} MB\")\n",
    "\n",
    "# Also save as parquet with embedding columns for easy merging\n",
    "embedding_cols = [f'emb_{i}' for i in range(embeddings.shape[1])]\n",
    "emb_df = pd.DataFrame(embeddings, columns=embedding_cols)\n",
    "emb_df['HADM_ID'] = cohort_with_notes['HADM_ID'].values\n",
    "\n",
    "emb_parquet_path = base_path / 'data/embeddings/embeddings.parquet'\n",
    "emb_df.to_parquet(emb_parquet_path, index=False)\n",
    "print(f\"✓ Also saved as parquet: {emb_parquet_path}\")\n",
    "\n"
   ]
  },
  {
   "cell_type": "code",
   "execution_count": 19,
   "id": "4578fc7d",
   "metadata": {},
   "outputs": [
    {
     "name": "stdout",
     "output_type": "stream",
     "text": [
      "✓ Saved summary: ..\\outputs\\results\\embedding_summary.json\n"
     ]
    }
   ],
   "source": [
    "# Cell 11: Create Embedding Summary\n",
    "\"\"\"\n",
    "Save summary statistics and metadata\n",
    "\"\"\"\n",
    "summary = {\n",
    "    'model': model_name,\n",
    "    'embedding_dimension': int(embeddings.shape[1]),\n",
    "    'n_admissions_with_embeddings': int(len(embeddings)),\n",
    "    'processing': {\n",
    "        'max_length': max_length,\n",
    "        'overlap': overlap,\n",
    "        'batch_size': batch_size,\n",
    "        'device': str(device)\n",
    "    },\n",
    "    'quality_metrics': {\n",
    "        'zero_vectors': int(zero_vectors),\n",
    "        'nan_vectors': int(nan_vectors),\n",
    "        'inf_vectors': int(inf_vectors),\n",
    "        'mean_norm': float(norms.mean()),\n",
    "        'std_norm': float(norms.std())\n",
    "    },\n",
    "    'statistics': {\n",
    "        'mean': float(embeddings.mean()),\n",
    "        'std': float(embeddings.std()),\n",
    "        'min': float(embeddings.min()),\n",
    "        'max': float(embeddings.max())\n",
    "    }\n",
    "}\n",
    "\n",
    "summary_path = base_path / 'outputs/results/embedding_summary.json'\n",
    "with open(summary_path, 'w') as f:\n",
    "    json.dump(summary, f, indent=2)\n",
    "\n",
    "print(f\"✓ Saved summary: {summary_path}\")\n",
    "\n"
   ]
  },
  {
   "cell_type": "code",
   "execution_count": 20,
   "id": "957ec8df",
   "metadata": {},
   "outputs": [
    {
     "name": "stdout",
     "output_type": "stream",
     "text": [
      "\n",
      "============================================================\n",
      "CREATING FUSED DATASETS\n",
      "============================================================\n",
      "Loaded structured features:\n",
      "  Train: (14, 88)\n",
      "  Calib: (2, 88)\n",
      "  Test:  (5, 88)\n",
      "\n",
      "Fused datasets:\n",
      "  Train: (14, 1112)\n",
      "  Calib: (2, 1112)\n",
      "  Test:  (5, 1112)\n",
      "\n",
      "Embedding coverage:\n",
      "  Train: 14/14 (100.0%)\n",
      "  Calib: 2/2 (100.0%)\n",
      "  Test:  5/5 (100.0%)\n",
      "\n",
      "✓ Saved fused datasets\n"
     ]
    }
   ],
   "source": [
    "# Cell 12: Merge with Feature Sets\n",
    "\"\"\"\n",
    "Create fused datasets with both structured features and embeddings\n",
    "\"\"\"\n",
    "print(\"\\n\" + \"=\"*60)\n",
    "print(\"CREATING FUSED DATASETS\")\n",
    "print(\"=\"*60)\n",
    "\n",
    "# Load structured features\n",
    "train_features = pd.read_parquet(base_path / 'data/processed/train_features.parquet')\n",
    "calib_features = pd.read_parquet(base_path / 'data/processed/calibration_features.parquet')\n",
    "test_features = pd.read_parquet(base_path / 'data/processed/test_features.parquet')\n",
    "\n",
    "print(f\"Loaded structured features:\")\n",
    "print(f\"  Train: {train_features.shape}\")\n",
    "print(f\"  Calib: {calib_features.shape}\")\n",
    "print(f\"  Test:  {test_features.shape}\")\n",
    "\n",
    "# Merge with embeddings\n",
    "train_fused = train_features.merge(emb_df, on='HADM_ID', how='left')\n",
    "calib_fused = calib_features.merge(emb_df, on='HADM_ID', how='left')\n",
    "test_fused = test_features.merge(emb_df, on='HADM_ID', how='left')\n",
    "\n",
    "# For admissions without notes, fill embeddings with zeros\n",
    "embedding_cols = [c for c in emb_df.columns if c.startswith('emb_')]\n",
    "for col in embedding_cols:\n",
    "    train_fused[col] = train_fused[col].fillna(0)\n",
    "    calib_fused[col] = calib_fused[col].fillna(0)\n",
    "    test_fused[col] = test_fused[col].fillna(0)\n",
    "\n",
    "print(f\"\\nFused datasets:\")\n",
    "print(f\"  Train: {train_fused.shape}\")\n",
    "print(f\"  Calib: {calib_fused.shape}\")\n",
    "print(f\"  Test:  {test_fused.shape}\")\n",
    "\n",
    "# Check embedding coverage\n",
    "print(f\"\\nEmbedding coverage:\")\n",
    "print(f\"  Train: {(train_fused[embedding_cols[0]] != 0).sum()}/{len(train_fused)} ({(train_fused[embedding_cols[0]] != 0).mean()*100:.1f}%)\")\n",
    "print(f\"  Calib: {(calib_fused[embedding_cols[0]] != 0).sum()}/{len(calib_fused)} ({(calib_fused[embedding_cols[0]] != 0).mean()*100:.1f}%)\")\n",
    "print(f\"  Test:  {(test_fused[embedding_cols[0]] != 0).sum()}/{len(test_fused)} ({(test_fused[embedding_cols[0]] != 0).mean()*100:.1f}%)\")\n",
    "\n",
    "# Save fused datasets\n",
    "train_fused.to_parquet(base_path / 'data/processed/train_fused.parquet', index=False)\n",
    "calib_fused.to_parquet(base_path / 'data/processed/calibration_fused.parquet', index=False)\n",
    "test_fused.to_parquet(base_path / 'data/processed/test_fused.parquet', index=False)\n",
    "\n",
    "print(f\"\\n✓ Saved fused datasets\")\n",
    "\n"
   ]
  },
  {
   "cell_type": "code",
   "execution_count": 21,
   "id": "d115a3c9",
   "metadata": {},
   "outputs": [
    {
     "name": "stdout",
     "output_type": "stream",
     "text": [
      "✓ Updated feature metadata\n"
     ]
    }
   ],
   "source": [
    "# Cell 13: Update Feature Info\n",
    "\"\"\"\n",
    "Update feature metadata to include embeddings\n",
    "\"\"\"\n",
    "with open(base_path / 'data/processed/feature_info.json', 'r') as f:\n",
    "    feature_info = json.load(f)\n",
    "\n",
    "feature_info['embedding_features'] = {\n",
    "    'n_dimensions': len(embedding_cols),\n",
    "    'column_names': embedding_cols,\n",
    "    'model': model_name,\n",
    "    'coverage_train': float((train_fused[embedding_cols[0]] != 0).mean()),\n",
    "    'coverage_test': float((test_fused[embedding_cols[0]] != 0).mean())\n",
    "}\n",
    "\n",
    "feature_info['total_fused_features'] = len(feature_info['feature_names']) + len(embedding_cols)\n",
    "\n",
    "with open(base_path / 'data/processed/feature_info.json', 'w') as f:\n",
    "    json.dump(feature_info, f, indent=2)\n",
    "\n",
    "print(\"✓ Updated feature metadata\")\n"
   ]
  },
  {
   "cell_type": "code",
   "execution_count": 22,
   "id": "dbd47cc6",
   "metadata": {},
   "outputs": [
    {
     "name": "stdout",
     "output_type": "stream",
     "text": [
      "\n",
      "✓ GPU memory cleared\n"
     ]
    }
   ],
   "source": [
    "# Cell 14: Memory Cleanup\n",
    "\"\"\"\n",
    "Clear GPU memory\n",
    "\"\"\"\n",
    "if torch.cuda.is_available():\n",
    "    del model\n",
    "    torch.cuda.empty_cache()\n",
    "    print(\"\\n✓ GPU memory cleared\")\n"
   ]
  },
  {
   "cell_type": "code",
   "execution_count": 23,
   "id": "ea9299cc",
   "metadata": {},
   "outputs": [
    {
     "name": "stdout",
     "output_type": "stream",
     "text": [
      "\n",
      "============================================================\n",
      "EMBEDDING GENERATION COMPLETE!\n",
      "============================================================\n",
      "\n",
      "✅ Generated 79 embeddings\n",
      "✅ Embedding dimension: 1024\n",
      "✅ Created fused datasets with structured + text features\n",
      "\n",
      "📊 Outputs:\n",
      "   - data/embeddings/discharge_note_embeddings.h5\n",
      "   - data/embeddings/embeddings.parquet\n",
      "   - data/processed/train_fused.parquet\n",
      "   - data/processed/calibration_fused.parquet\n",
      "   - data/processed/test_fused.parquet\n",
      "   - outputs/figures/embedding_visualization.png\n",
      "   - outputs/results/embedding_summary.json\n",
      "\n",
      "📝 Next Steps:\n",
      "   1. Train baseline model (structured features only)\n",
      "   2. Train fused model (structured + embeddings)\n",
      "   3. Compare performance\n",
      "   4. Proceed to notebook 05_train_models.ipynb\n"
     ]
    }
   ],
   "source": [
    "# Cell 15: Summary\n",
    "print(\"\\n\" + \"=\"*60)\n",
    "print(\"EMBEDDING GENERATION COMPLETE!\")\n",
    "print(\"=\"*60)\n",
    "print(f\"\\n✅ Generated {embeddings.shape[0]} embeddings\")\n",
    "print(f\"✅ Embedding dimension: {embeddings.shape[1]}\")\n",
    "print(f\"✅ Created fused datasets with structured + text features\")\n",
    "print(f\"\\n📊 Outputs:\")\n",
    "print(f\"   - data/embeddings/discharge_note_embeddings.h5\")\n",
    "print(f\"   - data/embeddings/embeddings.parquet\")\n",
    "print(f\"   - data/processed/train_fused.parquet\")\n",
    "print(f\"   - data/processed/calibration_fused.parquet\")\n",
    "print(f\"   - data/processed/test_fused.parquet\")\n",
    "print(f\"   - outputs/figures/embedding_visualization.png\")\n",
    "print(f\"   - outputs/results/embedding_summary.json\")\n",
    "print(f\"\\n📝 Next Steps:\")\n",
    "print(\"   1. Train baseline model (structured features only)\")\n",
    "print(\"   2. Train fused model (structured + embeddings)\")\n",
    "print(\"   3. Compare performance\")\n",
    "print(\"   4. Proceed to notebook 05_train_models.ipynb\")"
   ]
  }
 ],
 "metadata": {
  "kernelspec": {
   "display_name": "venv",
   "language": "python",
   "name": "python3"
  },
  "language_info": {
   "codemirror_mode": {
    "name": "ipython",
    "version": 3
   },
   "file_extension": ".py",
   "mimetype": "text/x-python",
   "name": "python",
   "nbconvert_exporter": "python",
   "pygments_lexer": "ipython3",
   "version": "3.9.7"
  }
 },
 "nbformat": 4,
 "nbformat_minor": 5
}
